{
 "cells": [
  {
   "cell_type": "code",
   "execution_count": 1,
   "id": "07733625",
   "metadata": {},
   "outputs": [],
   "source": [
    "import numpy as np\n",
    "import matplotlib.pyplot as plt\n",
    "import pandas as pd\n",
    "from sklearn.preprocessing import StandardScaler,MinMaxScaler\n",
    "import tensorflow as tf\n",
    "from tensorflow import keras"
   ]
  },
  {
   "cell_type": "code",
   "execution_count": 2,
   "id": "87b63c76",
   "metadata": {},
   "outputs": [
    {
     "data": {
      "text/html": [
       "<div>\n",
       "<style scoped>\n",
       "    .dataframe tbody tr th:only-of-type {\n",
       "        vertical-align: middle;\n",
       "    }\n",
       "\n",
       "    .dataframe tbody tr th {\n",
       "        vertical-align: top;\n",
       "    }\n",
       "\n",
       "    .dataframe thead th {\n",
       "        text-align: right;\n",
       "    }\n",
       "</style>\n",
       "<table border=\"1\" class=\"dataframe\">\n",
       "  <thead>\n",
       "    <tr style=\"text-align: right;\">\n",
       "      <th></th>\n",
       "      <th>Date</th>\n",
       "      <th>Open</th>\n",
       "      <th>High</th>\n",
       "      <th>Low</th>\n",
       "      <th>Close</th>\n",
       "      <th>Adj Close</th>\n",
       "      <th>Volume</th>\n",
       "    </tr>\n",
       "  </thead>\n",
       "  <tbody>\n",
       "    <tr>\n",
       "      <th>6477</th>\n",
       "      <td>2021-09-07</td>\n",
       "      <td>297.350006</td>\n",
       "      <td>297.799988</td>\n",
       "      <td>290.899994</td>\n",
       "      <td>294.600006</td>\n",
       "      <td>294.600006</td>\n",
       "      <td>14325904.0</td>\n",
       "    </tr>\n",
       "    <tr>\n",
       "      <th>6478</th>\n",
       "      <td>2021-09-08</td>\n",
       "      <td>293.500000</td>\n",
       "      <td>298.799988</td>\n",
       "      <td>291.600006</td>\n",
       "      <td>295.250000</td>\n",
       "      <td>295.250000</td>\n",
       "      <td>14920479.0</td>\n",
       "    </tr>\n",
       "    <tr>\n",
       "      <th>6479</th>\n",
       "      <td>2021-09-09</td>\n",
       "      <td>294.000000</td>\n",
       "      <td>303.500000</td>\n",
       "      <td>293.549988</td>\n",
       "      <td>298.950012</td>\n",
       "      <td>298.950012</td>\n",
       "      <td>34020970.0</td>\n",
       "    </tr>\n",
       "    <tr>\n",
       "      <th>6480</th>\n",
       "      <td>2021-09-13</td>\n",
       "      <td>299.000000</td>\n",
       "      <td>302.000000</td>\n",
       "      <td>295.500000</td>\n",
       "      <td>301.200012</td>\n",
       "      <td>301.200012</td>\n",
       "      <td>16339860.0</td>\n",
       "    </tr>\n",
       "    <tr>\n",
       "      <th>6481</th>\n",
       "      <td>2021-09-14</td>\n",
       "      <td>302.250000</td>\n",
       "      <td>307.200012</td>\n",
       "      <td>302.200012</td>\n",
       "      <td>306.100006</td>\n",
       "      <td>306.100006</td>\n",
       "      <td>23234649.0</td>\n",
       "    </tr>\n",
       "  </tbody>\n",
       "</table>\n",
       "</div>"
      ],
      "text/plain": [
       "            Date        Open        High         Low       Close   Adj Close  \\\n",
       "6477  2021-09-07  297.350006  297.799988  290.899994  294.600006  294.600006   \n",
       "6478  2021-09-08  293.500000  298.799988  291.600006  295.250000  295.250000   \n",
       "6479  2021-09-09  294.000000  303.500000  293.549988  298.950012  298.950012   \n",
       "6480  2021-09-13  299.000000  302.000000  295.500000  301.200012  301.200012   \n",
       "6481  2021-09-14  302.250000  307.200012  302.200012  306.100006  306.100006   \n",
       "\n",
       "          Volume  \n",
       "6477  14325904.0  \n",
       "6478  14920479.0  \n",
       "6479  34020970.0  \n",
       "6480  16339860.0  \n",
       "6481  23234649.0  "
      ]
     },
     "execution_count": 2,
     "metadata": {},
     "output_type": "execute_result"
    }
   ],
   "source": [
    "data=pd.read_csv('TATAMOTORS.NS.csv',date_parser=True)\n",
    "data.tail()\n"
   ]
  },
  {
   "cell_type": "code",
   "execution_count": 3,
   "id": "1c59876e",
   "metadata": {},
   "outputs": [],
   "source": [
    "trdata=data[data['Date']<'2021-01-01'].copy()\n",
    "tsdata=data[data['Date']>='2021-01-01'].copy()"
   ]
  },
  {
   "cell_type": "code",
   "execution_count": 4,
   "id": "737300cd",
   "metadata": {},
   "outputs": [
    {
     "name": "stdout",
     "output_type": "stream",
     "text": [
      "Open      0\n",
      "High      0\n",
      "Low       0\n",
      "Close     0\n",
      "Volume    0\n",
      "dtype: int64\n"
     ]
    }
   ],
   "source": [
    "\n",
    "\n",
    "trdata=trdata.drop(['Date','Adj Close'],axis=1)\n",
    "trdata.dropna(axis=0,how='any',inplace=True)\n",
    "print(trdata.isnull().sum())\n",
    "\n"
   ]
  },
  {
   "cell_type": "code",
   "execution_count": null,
   "id": "0547220c",
   "metadata": {},
   "outputs": [],
   "source": []
  },
  {
   "cell_type": "code",
   "execution_count": null,
   "id": "07c8a0dd",
   "metadata": {},
   "outputs": [],
   "source": []
  },
  {
   "cell_type": "code",
   "execution_count": 5,
   "id": "c353f089",
   "metadata": {},
   "outputs": [
    {
     "data": {
      "text/plain": [
       "array([[0.10474505, 0.10296286, 0.10674933, 0.10488202, 0.        ],\n",
       "       [0.10474505, 0.10296286, 0.10674933, 0.10488202, 0.        ],\n",
       "       [0.10474505, 0.10296286, 0.10674933, 0.10488202, 0.        ],\n",
       "       ...,\n",
       "       [0.30009534, 0.29753862, 0.29381225, 0.2933923 , 0.33097816],\n",
       "       [0.2919473 , 0.29240626, 0.29260292, 0.29458507, 0.17902705],\n",
       "       [0.29491795, 0.29594002, 0.29674913, 0.2940739 , 0.22730211]])"
      ]
     },
     "execution_count": 5,
     "metadata": {},
     "output_type": "execute_result"
    }
   ],
   "source": [
    "s=MinMaxScaler()\n",
    "trdata=s.fit_transform(trdata)\n",
    "trdata"
   ]
  },
  {
   "cell_type": "code",
   "execution_count": 6,
   "id": "78169afc",
   "metadata": {},
   "outputs": [],
   "source": [
    "Xtrain=[]\n",
    "Ytrain=[]\n",
    "\n",
    "for i in range(90,trdata.shape[0]):\n",
    "    Xtrain.append(trdata[i-90:i])\n",
    "    Ytrain.append(trdata[i,0])"
   ]
  },
  {
   "cell_type": "code",
   "execution_count": 7,
   "id": "94945786",
   "metadata": {
    "scrolled": true
   },
   "outputs": [],
   "source": [
    "Xtrain = np.array(Xtrain)\n",
    "Ytrain = np.array(Ytrain)"
   ]
  },
  {
   "cell_type": "code",
   "execution_count": 8,
   "id": "32ff783d",
   "metadata": {},
   "outputs": [
    {
     "data": {
      "text/plain": [
       "((6205, 90, 5), (6205,))"
      ]
     },
     "execution_count": 8,
     "metadata": {},
     "output_type": "execute_result"
    }
   ],
   "source": [
    "Xtrain.shape,Ytrain.shape\n"
   ]
  },
  {
   "cell_type": "code",
   "execution_count": 9,
   "id": "3e1a1134",
   "metadata": {},
   "outputs": [],
   "source": [
    "from tensorflow.keras import Sequential\n",
    "from tensorflow.keras.layers import Dense, LSTM , Dropout\n",
    "from keras import optimizers\n",
    "optimizer = tf.keras.optimizers.Adam(clipvalue=0.5)\n",
    "from sklearn.metrics import mean_squared_error"
   ]
  },
  {
   "cell_type": "code",
   "execution_count": 10,
   "id": "7af20b90",
   "metadata": {},
   "outputs": [],
   "source": [
    "reg=Sequential()\n",
    "reg.add(LSTM(units=60,activation='relu',return_sequences= True, input_shape=(Xtrain.shape[1],5)))\n",
    "reg.add(Dropout(0.2))\n",
    "reg.add(LSTM(units=80,activation='relu',return_sequences= True))\n",
    "reg.add(Dropout(0.2))\n",
    "reg.add(LSTM(units=100,activation='relu',return_sequences= True))\n",
    "reg.add(Dropout(0.2))\n",
    "reg.add(LSTM(units=120,activation='relu',return_sequences= True))\n",
    "reg.add(Dropout(0.2))\n",
    "reg.add(LSTM(units=140,activation='relu',return_sequences= True))\n",
    "reg.add(Dropout(0.2))\n",
    "reg.add(LSTM(units=160,activation='relu'))\n",
    "reg.add(Dropout(0.2))\n",
    "reg.add(Dense(units=1))"
   ]
  },
  {
   "cell_type": "code",
   "execution_count": 11,
   "id": "436fb83a",
   "metadata": {},
   "outputs": [
    {
     "name": "stdout",
     "output_type": "stream",
     "text": [
      "Model: \"sequential\"\n",
      "_________________________________________________________________\n",
      "Layer (type)                 Output Shape              Param #   \n",
      "=================================================================\n",
      "lstm (LSTM)                  (None, 90, 60)            15840     \n",
      "_________________________________________________________________\n",
      "dropout (Dropout)            (None, 90, 60)            0         \n",
      "_________________________________________________________________\n",
      "lstm_1 (LSTM)                (None, 90, 80)            45120     \n",
      "_________________________________________________________________\n",
      "dropout_1 (Dropout)          (None, 90, 80)            0         \n",
      "_________________________________________________________________\n",
      "lstm_2 (LSTM)                (None, 90, 100)           72400     \n",
      "_________________________________________________________________\n",
      "dropout_2 (Dropout)          (None, 90, 100)           0         \n",
      "_________________________________________________________________\n",
      "lstm_3 (LSTM)                (None, 90, 120)           106080    \n",
      "_________________________________________________________________\n",
      "dropout_3 (Dropout)          (None, 90, 120)           0         \n",
      "_________________________________________________________________\n",
      "lstm_4 (LSTM)                (None, 90, 140)           146160    \n",
      "_________________________________________________________________\n",
      "dropout_4 (Dropout)          (None, 90, 140)           0         \n",
      "_________________________________________________________________\n",
      "lstm_5 (LSTM)                (None, 160)               192640    \n",
      "_________________________________________________________________\n",
      "dropout_5 (Dropout)          (None, 160)               0         \n",
      "_________________________________________________________________\n",
      "dense (Dense)                (None, 1)                 161       \n",
      "=================================================================\n",
      "Total params: 578,401\n",
      "Trainable params: 578,401\n",
      "Non-trainable params: 0\n",
      "_________________________________________________________________\n"
     ]
    }
   ],
   "source": [
    "reg.summary()"
   ]
  },
  {
   "cell_type": "code",
   "execution_count": 12,
   "id": "bb95fd8f",
   "metadata": {},
   "outputs": [],
   "source": [
    "reg.compile(optimizer=optimizer, loss='mean_squared_error',metrics=['mse'])"
   ]
  },
  {
   "cell_type": "code",
   "execution_count": null,
   "id": "285c96e3",
   "metadata": {},
   "outputs": [],
   "source": [
    "\n",
    "\n"
   ]
  },
  {
   "cell_type": "code",
   "execution_count": 13,
   "id": "583620c2",
   "metadata": {},
   "outputs": [
    {
     "name": "stdout",
     "output_type": "stream",
     "text": [
      "Epoch 1/10\n",
      "173/173 [==============================] - 58s 311ms/step - loss: 0.0139 - mse: 0.0139\n",
      "Epoch 2/10\n",
      "173/173 [==============================] - 58s 337ms/step - loss: 0.0026 - mse: 0.0026\n",
      "Epoch 3/10\n",
      "173/173 [==============================] - 58s 334ms/step - loss: 0.0022 - mse: 0.0022\n",
      "Epoch 4/10\n",
      "173/173 [==============================] - 57s 332ms/step - loss: 0.0022 - mse: 0.0022\n",
      "Epoch 5/10\n",
      "173/173 [==============================] - 58s 338ms/step - loss: 0.0020 - mse: 0.0020\n",
      "Epoch 6/10\n",
      "173/173 [==============================] - 58s 337ms/step - loss: 0.0018 - mse: 0.0018\n",
      "Epoch 7/10\n",
      "173/173 [==============================] - 59s 338ms/step - loss: 0.0016 - mse: 0.0016\n",
      "Epoch 8/10\n",
      "173/173 [==============================] - 57s 329ms/step - loss: 0.0014 - mse: 0.0014\n",
      "Epoch 9/10\n",
      "173/173 [==============================] - 58s 333ms/step - loss: 0.0013 - mse: 0.0013\n",
      "Epoch 10/10\n",
      "173/173 [==============================] - 58s 334ms/step - loss: 0.0015 - mse: 0.0015\n"
     ]
    },
    {
     "data": {
      "text/plain": [
       "<keras.callbacks.History at 0x1e88f9750a0>"
      ]
     },
     "execution_count": 13,
     "metadata": {},
     "output_type": "execute_result"
    }
   ],
   "source": [
    "reg.fit(Xtrain,Ytrain,epochs=10,batch_size=36)"
   ]
  },
  {
   "cell_type": "code",
   "execution_count": 14,
   "id": "82b71f25",
   "metadata": {},
   "outputs": [
    {
     "data": {
      "text/html": [
       "<div>\n",
       "<style scoped>\n",
       "    .dataframe tbody tr th:only-of-type {\n",
       "        vertical-align: middle;\n",
       "    }\n",
       "\n",
       "    .dataframe tbody tr th {\n",
       "        vertical-align: top;\n",
       "    }\n",
       "\n",
       "    .dataframe thead th {\n",
       "        text-align: right;\n",
       "    }\n",
       "</style>\n",
       "<table border=\"1\" class=\"dataframe\">\n",
       "  <thead>\n",
       "    <tr style=\"text-align: right;\">\n",
       "      <th></th>\n",
       "      <th>Date</th>\n",
       "      <th>Open</th>\n",
       "      <th>High</th>\n",
       "      <th>Low</th>\n",
       "      <th>Close</th>\n",
       "      <th>Adj Close</th>\n",
       "      <th>Volume</th>\n",
       "    </tr>\n",
       "  </thead>\n",
       "  <tbody>\n",
       "    <tr>\n",
       "      <th>6309</th>\n",
       "      <td>2021-01-01</td>\n",
       "      <td>184.949997</td>\n",
       "      <td>187.000000</td>\n",
       "      <td>184.500000</td>\n",
       "      <td>186.500000</td>\n",
       "      <td>186.500000</td>\n",
       "      <td>27334421.0</td>\n",
       "    </tr>\n",
       "    <tr>\n",
       "      <th>6310</th>\n",
       "      <td>2021-01-04</td>\n",
       "      <td>191.800003</td>\n",
       "      <td>193.000000</td>\n",
       "      <td>188.750000</td>\n",
       "      <td>191.300003</td>\n",
       "      <td>191.300003</td>\n",
       "      <td>63980597.0</td>\n",
       "    </tr>\n",
       "    <tr>\n",
       "      <th>6311</th>\n",
       "      <td>2021-01-05</td>\n",
       "      <td>187.100006</td>\n",
       "      <td>193.899994</td>\n",
       "      <td>185.050003</td>\n",
       "      <td>193.199997</td>\n",
       "      <td>193.199997</td>\n",
       "      <td>75752593.0</td>\n",
       "    </tr>\n",
       "    <tr>\n",
       "      <th>6312</th>\n",
       "      <td>2021-01-06</td>\n",
       "      <td>194.449997</td>\n",
       "      <td>197.600006</td>\n",
       "      <td>190.649994</td>\n",
       "      <td>195.399994</td>\n",
       "      <td>195.399994</td>\n",
       "      <td>75621947.0</td>\n",
       "    </tr>\n",
       "    <tr>\n",
       "      <th>6313</th>\n",
       "      <td>2021-01-07</td>\n",
       "      <td>197.000000</td>\n",
       "      <td>200.350006</td>\n",
       "      <td>195.100006</td>\n",
       "      <td>196.750000</td>\n",
       "      <td>196.750000</td>\n",
       "      <td>66024848.0</td>\n",
       "    </tr>\n",
       "  </tbody>\n",
       "</table>\n",
       "</div>"
      ],
      "text/plain": [
       "            Date        Open        High         Low       Close   Adj Close  \\\n",
       "6309  2021-01-01  184.949997  187.000000  184.500000  186.500000  186.500000   \n",
       "6310  2021-01-04  191.800003  193.000000  188.750000  191.300003  191.300003   \n",
       "6311  2021-01-05  187.100006  193.899994  185.050003  193.199997  193.199997   \n",
       "6312  2021-01-06  194.449997  197.600006  190.649994  195.399994  195.399994   \n",
       "6313  2021-01-07  197.000000  200.350006  195.100006  196.750000  196.750000   \n",
       "\n",
       "          Volume  \n",
       "6309  27334421.0  \n",
       "6310  63980597.0  \n",
       "6311  75752593.0  \n",
       "6312  75621947.0  \n",
       "6313  66024848.0  "
      ]
     },
     "execution_count": 14,
     "metadata": {},
     "output_type": "execute_result"
    }
   ],
   "source": [
    "tsdata.head()"
   ]
  },
  {
   "cell_type": "code",
   "execution_count": 15,
   "id": "18d13003",
   "metadata": {},
   "outputs": [],
   "source": [
    "t=tsdata.tail(90)"
   ]
  },
  {
   "cell_type": "code",
   "execution_count": 16,
   "id": "85b22aa7",
   "metadata": {},
   "outputs": [
    {
     "data": {
      "text/html": [
       "<div>\n",
       "<style scoped>\n",
       "    .dataframe tbody tr th:only-of-type {\n",
       "        vertical-align: middle;\n",
       "    }\n",
       "\n",
       "    .dataframe tbody tr th {\n",
       "        vertical-align: top;\n",
       "    }\n",
       "\n",
       "    .dataframe thead th {\n",
       "        text-align: right;\n",
       "    }\n",
       "</style>\n",
       "<table border=\"1\" class=\"dataframe\">\n",
       "  <thead>\n",
       "    <tr style=\"text-align: right;\">\n",
       "      <th></th>\n",
       "      <th>Open</th>\n",
       "      <th>High</th>\n",
       "      <th>Low</th>\n",
       "      <th>Close</th>\n",
       "      <th>Volume</th>\n",
       "    </tr>\n",
       "  </thead>\n",
       "  <tbody>\n",
       "    <tr>\n",
       "      <th>0</th>\n",
       "      <td>291.500000</td>\n",
       "      <td>302.000000</td>\n",
       "      <td>290.299988</td>\n",
       "      <td>301.250000</td>\n",
       "      <td>45032502.0</td>\n",
       "    </tr>\n",
       "    <tr>\n",
       "      <th>1</th>\n",
       "      <td>303.000000</td>\n",
       "      <td>305.950012</td>\n",
       "      <td>300.500000</td>\n",
       "      <td>302.750000</td>\n",
       "      <td>41591323.0</td>\n",
       "    </tr>\n",
       "    <tr>\n",
       "      <th>2</th>\n",
       "      <td>304.500000</td>\n",
       "      <td>315.700012</td>\n",
       "      <td>304.000000</td>\n",
       "      <td>314.850006</td>\n",
       "      <td>53260388.0</td>\n",
       "    </tr>\n",
       "    <tr>\n",
       "      <th>3</th>\n",
       "      <td>309.549988</td>\n",
       "      <td>320.750000</td>\n",
       "      <td>308.100006</td>\n",
       "      <td>315.549988</td>\n",
       "      <td>58472304.0</td>\n",
       "    </tr>\n",
       "    <tr>\n",
       "      <th>4</th>\n",
       "      <td>318.250000</td>\n",
       "      <td>334.750000</td>\n",
       "      <td>316.250000</td>\n",
       "      <td>326.000000</td>\n",
       "      <td>111584920.0</td>\n",
       "    </tr>\n",
       "    <tr>\n",
       "      <th>...</th>\n",
       "      <td>...</td>\n",
       "      <td>...</td>\n",
       "      <td>...</td>\n",
       "      <td>...</td>\n",
       "      <td>...</td>\n",
       "    </tr>\n",
       "    <tr>\n",
       "      <th>258</th>\n",
       "      <td>297.350006</td>\n",
       "      <td>297.799988</td>\n",
       "      <td>290.899994</td>\n",
       "      <td>294.600006</td>\n",
       "      <td>14325904.0</td>\n",
       "    </tr>\n",
       "    <tr>\n",
       "      <th>259</th>\n",
       "      <td>293.500000</td>\n",
       "      <td>298.799988</td>\n",
       "      <td>291.600006</td>\n",
       "      <td>295.250000</td>\n",
       "      <td>14920479.0</td>\n",
       "    </tr>\n",
       "    <tr>\n",
       "      <th>260</th>\n",
       "      <td>294.000000</td>\n",
       "      <td>303.500000</td>\n",
       "      <td>293.549988</td>\n",
       "      <td>298.950012</td>\n",
       "      <td>34020970.0</td>\n",
       "    </tr>\n",
       "    <tr>\n",
       "      <th>261</th>\n",
       "      <td>299.000000</td>\n",
       "      <td>302.000000</td>\n",
       "      <td>295.500000</td>\n",
       "      <td>301.200012</td>\n",
       "      <td>16339860.0</td>\n",
       "    </tr>\n",
       "    <tr>\n",
       "      <th>262</th>\n",
       "      <td>302.250000</td>\n",
       "      <td>307.200012</td>\n",
       "      <td>302.200012</td>\n",
       "      <td>306.100006</td>\n",
       "      <td>23234649.0</td>\n",
       "    </tr>\n",
       "  </tbody>\n",
       "</table>\n",
       "<p>263 rows × 5 columns</p>\n",
       "</div>"
      ],
      "text/plain": [
       "           Open        High         Low       Close       Volume\n",
       "0    291.500000  302.000000  290.299988  301.250000   45032502.0\n",
       "1    303.000000  305.950012  300.500000  302.750000   41591323.0\n",
       "2    304.500000  315.700012  304.000000  314.850006   53260388.0\n",
       "3    309.549988  320.750000  308.100006  315.549988   58472304.0\n",
       "4    318.250000  334.750000  316.250000  326.000000  111584920.0\n",
       "..          ...         ...         ...         ...          ...\n",
       "258  297.350006  297.799988  290.899994  294.600006   14325904.0\n",
       "259  293.500000  298.799988  291.600006  295.250000   14920479.0\n",
       "260  294.000000  303.500000  293.549988  298.950012   34020970.0\n",
       "261  299.000000  302.000000  295.500000  301.200012   16339860.0\n",
       "262  302.250000  307.200012  302.200012  306.100006   23234649.0\n",
       "\n",
       "[263 rows x 5 columns]"
      ]
     },
     "execution_count": 16,
     "metadata": {},
     "output_type": "execute_result"
    }
   ],
   "source": [
    "ts=t.append(tsdata,ignore_index=True)\n",
    "ts=ts.drop(['Adj Close','Date'],axis=1)\n",
    "ts"
   ]
  },
  {
   "cell_type": "code",
   "execution_count": 17,
   "id": "2f1c8bd3",
   "metadata": {},
   "outputs": [],
   "source": [
    "inp=s.transform(ts)"
   ]
  },
  {
   "cell_type": "code",
   "execution_count": 18,
   "id": "59f43c5a",
   "metadata": {},
   "outputs": [],
   "source": [
    "Xtest=[]\n",
    "Ytest=[]\n",
    "for i in range(90,inp.shape[0]):\n",
    "    Xtest.append(inp[i-90:i])\n",
    "    Ytest.append(inp[i,0])"
   ]
  },
  {
   "cell_type": "code",
   "execution_count": 19,
   "id": "209ed82f",
   "metadata": {},
   "outputs": [
    {
     "data": {
      "text/plain": [
       "(173, 90, 5)"
      ]
     },
     "execution_count": 19,
     "metadata": {},
     "output_type": "execute_result"
    }
   ],
   "source": [
    "Xtest = np.array(Xtest)\n",
    "Ytest = np.array(Ytest)\n",
    "Xtest.shape"
   ]
  },
  {
   "cell_type": "code",
   "execution_count": 20,
   "id": "1cc9391b",
   "metadata": {},
   "outputs": [],
   "source": [
    "ypred=reg.predict(Xtest)"
   ]
  },
  {
   "cell_type": "code",
   "execution_count": 21,
   "id": "34774492",
   "metadata": {},
   "outputs": [
    {
     "data": {
      "text/plain": [
       "array([[0.45979878],\n",
       "       [0.46141055],\n",
       "       [0.46114692],\n",
       "       [0.45804688],\n",
       "       [0.4515647 ],\n",
       "       [0.44149026],\n",
       "       [0.42846557],\n",
       "       [0.41340092],\n",
       "       [0.39733943],\n",
       "       [0.38145313],\n",
       "       [0.3670543 ],\n",
       "       [0.3553364 ],\n",
       "       [0.3471038 ],\n",
       "       [0.3427374 ],\n",
       "       [0.34186637],\n",
       "       [0.34400067],\n",
       "       [0.348371  ],\n",
       "       [0.35434082],\n",
       "       [0.36146548],\n",
       "       [0.3693243 ],\n",
       "       [0.37746072],\n",
       "       [0.38538447],\n",
       "       [0.39272568],\n",
       "       [0.3994243 ],\n",
       "       [0.4058039 ],\n",
       "       [0.41237888],\n",
       "       [0.41965565],\n",
       "       [0.4279341 ],\n",
       "       [0.43720552],\n",
       "       [0.44721356],\n",
       "       [0.45750883],\n",
       "       [0.46756473],\n",
       "       [0.47690493],\n",
       "       [0.48517367],\n",
       "       [0.4921408 ],\n",
       "       [0.49758014],\n",
       "       [0.50129735],\n",
       "       [0.50316924],\n",
       "       [0.5033256 ],\n",
       "       [0.5020233 ],\n",
       "       [0.49975207],\n",
       "       [0.4970961 ],\n",
       "       [0.4945582 ],\n",
       "       [0.4926388 ],\n",
       "       [0.49171534],\n",
       "       [0.49184075],\n",
       "       [0.49278507],\n",
       "       [0.494189  ],\n",
       "       [0.4956837 ],\n",
       "       [0.49694327],\n",
       "       [0.49779198],\n",
       "       [0.49821126],\n",
       "       [0.49820644],\n",
       "       [0.49771762],\n",
       "       [0.49655816],\n",
       "       [0.49463847],\n",
       "       [0.49202707],\n",
       "       [0.48885927],\n",
       "       [0.48519763],\n",
       "       [0.48111328],\n",
       "       [0.47679296],\n",
       "       [0.47252008],\n",
       "       [0.4686609 ],\n",
       "       [0.46552363],\n",
       "       [0.46331498],\n",
       "       [0.46215   ],\n",
       "       [0.46203777],\n",
       "       [0.46289402],\n",
       "       [0.46432236],\n",
       "       [0.4657692 ],\n",
       "       [0.46677473],\n",
       "       [0.46715203],\n",
       "       [0.46691445],\n",
       "       [0.46621713],\n",
       "       [0.46523443],\n",
       "       [0.46410248],\n",
       "       [0.46296966],\n",
       "       [0.46199945],\n",
       "       [0.46136495],\n",
       "       [0.46121144],\n",
       "       [0.46155265],\n",
       "       [0.46223906],\n",
       "       [0.46303043],\n",
       "       [0.46369395],\n",
       "       [0.464076  ],\n",
       "       [0.46416387],\n",
       "       [0.46408713],\n",
       "       [0.46405718],\n",
       "       [0.46427438],\n",
       "       [0.46486828],\n",
       "       [0.46590397],\n",
       "       [0.46744123],\n",
       "       [0.46935496],\n",
       "       [0.47143748],\n",
       "       [0.4735112 ],\n",
       "       [0.47548234],\n",
       "       [0.47734132],\n",
       "       [0.47914326],\n",
       "       [0.4809403 ],\n",
       "       [0.4827962 ],\n",
       "       [0.48471913],\n",
       "       [0.48670134],\n",
       "       [0.48872334],\n",
       "       [0.49079636],\n",
       "       [0.49295035],\n",
       "       [0.495249  ],\n",
       "       [0.49781623],\n",
       "       [0.500746  ],\n",
       "       [0.50409144],\n",
       "       [0.5078472 ],\n",
       "       [0.51195633],\n",
       "       [0.5163367 ],\n",
       "       [0.5208706 ],\n",
       "       [0.5253805 ],\n",
       "       [0.52956474],\n",
       "       [0.5330707 ],\n",
       "       [0.53565365],\n",
       "       [0.5371937 ],\n",
       "       [0.5376949 ],\n",
       "       [0.5373854 ],\n",
       "       [0.5365938 ],\n",
       "       [0.53565115],\n",
       "       [0.53482306],\n",
       "       [0.5342775 ],\n",
       "       [0.53410846],\n",
       "       [0.5343653 ],\n",
       "       [0.5346411 ],\n",
       "       [0.53426296],\n",
       "       [0.5325756 ],\n",
       "       [0.5292238 ],\n",
       "       [0.524314  ],\n",
       "       [0.5183017 ],\n",
       "       [0.51181835],\n",
       "       [0.50549704],\n",
       "       [0.4998658 ],\n",
       "       [0.4952686 ],\n",
       "       [0.49180254],\n",
       "       [0.48937532],\n",
       "       [0.4877135 ],\n",
       "       [0.48645052],\n",
       "       [0.48518357],\n",
       "       [0.483565  ],\n",
       "       [0.4813753 ],\n",
       "       [0.47861668],\n",
       "       [0.47550604],\n",
       "       [0.47238836],\n",
       "       [0.46962473],\n",
       "       [0.4674869 ],\n",
       "       [0.46614   ],\n",
       "       [0.46562523],\n",
       "       [0.4658452 ],\n",
       "       [0.46658054],\n",
       "       [0.46759668],\n",
       "       [0.4687293 ],\n",
       "       [0.469915  ],\n",
       "       [0.47108427],\n",
       "       [0.4721302 ],\n",
       "       [0.47283456],\n",
       "       [0.47292748],\n",
       "       [0.47215095],\n",
       "       [0.47040755],\n",
       "       [0.46780702],\n",
       "       [0.4646257 ],\n",
       "       [0.46126017],\n",
       "       [0.4580699 ],\n",
       "       [0.45533755],\n",
       "       [0.45328605],\n",
       "       [0.45206216],\n",
       "       [0.45173788],\n",
       "       [0.45228466],\n",
       "       [0.45357645],\n",
       "       [0.45539203],\n",
       "       [0.45751485]], dtype=float32)"
      ]
     },
     "execution_count": 21,
     "metadata": {},
     "output_type": "execute_result"
    }
   ],
   "source": [
    "ypred"
   ]
  },
  {
   "cell_type": "code",
   "execution_count": 22,
   "id": "36a0c03a",
   "metadata": {},
   "outputs": [
    {
     "data": {
      "text/plain": [
       "array([1.69751181e-03, 1.68273922e-03, 1.72757907e-03, 1.70396498e-03,\n",
       "       4.64087277e-09])"
      ]
     },
     "execution_count": 22,
     "metadata": {},
     "output_type": "execute_result"
    }
   ],
   "source": [
    "s.scale_"
   ]
  },
  {
   "cell_type": "code",
   "execution_count": 23,
   "id": "780de2a4",
   "metadata": {},
   "outputs": [
    {
     "data": {
      "text/plain": [
       "589.0975215070815"
      ]
     },
     "execution_count": 23,
     "metadata": {},
     "output_type": "execute_result"
    }
   ],
   "source": [
    "scale=1/1.69751181e-03\n",
    "scale"
   ]
  },
  {
   "cell_type": "code",
   "execution_count": 24,
   "id": "e724432c",
   "metadata": {},
   "outputs": [],
   "source": [
    "ypred=ypred*scale\n",
    "Ytest=Ytest*scale"
   ]
  },
  {
   "cell_type": "code",
   "execution_count": 25,
   "id": "696f2440",
   "metadata": {},
   "outputs": [
    {
     "data": {
      "text/plain": [
       "Text(0, 0.5, 'P')"
      ]
     },
     "execution_count": 25,
     "metadata": {},
     "output_type": "execute_result"
    },
    {
     "data": {
      "image/png": "[encoded data removed]",
      "text/plain": [
       "<Figure size 1008x360 with 1 Axes>"
      ]
     },
     "metadata": {
      "needs_background": "light"
     },
     "output_type": "display_data"
    }
   ],
   "source": [
    "\n",
    "#Visualization \n",
    "plt.figure(figsize=(14,5))\n",
    "plt.plot(Ytest,color ='red',label=\"Real stock Price\")\n",
    "plt.plot(ypred,color='blue',label=\"Predicted stock Price\")\n",
    "plt.xlabel('Time')\n",
    "plt.ylabel('P')"
   ]
  },
  {
   "cell_type": "code",
   "execution_count": null,
   "id": "f4b433c2",
   "metadata": {},
   "outputs": [],
   "source": []
  }
 ],
 "metadata": {
  "kernelspec": {
   "display_name": "Python 3",
   "language": "python",
   "name": "python3"
  },
  "language_info": {
   "codemirror_mode": {
    "name": "ipython",
    "version": 3
   },
   "file_extension": ".py",
   "mimetype": "text/x-python",
   "name": "python",
   "nbconvert_exporter": "python",
   "pygments_lexer": "ipython3",
   "version": "3.8.8"
  }
 },
 "nbformat": 4,
 "nbformat_minor": 5
}
