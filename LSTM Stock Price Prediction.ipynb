{
 "cells": [
  {
   "cell_type": "code",
   "execution_count": 1,
   "id": "07733625",
   "metadata": {},
   "outputs": [],
   "source": [
    "import numpy as np\n",
    "import matplotlib.pyplot as plt\n",
    "import pandas as pd\n",
    "from sklearn.preprocessing import StandardScaler,MinMaxScaler\n",
    "import tensorflow as tf\n",
    "from tensorflow import keras"
   ]
  },
  {
   "cell_type": "code",
   "execution_count": 2,
   "id": "87b63c76",
   "metadata": {},
   "outputs": [
    {
     "data": {
      "text/html": [
       "<div>\n",
       "<style scoped>\n",
       "    .dataframe tbody tr th:only-of-type {\n",
       "        vertical-align: middle;\n",
       "    }\n",
       "\n",
       "    .dataframe tbody tr th {\n",
       "        vertical-align: top;\n",
       "    }\n",
       "\n",
       "    .dataframe thead th {\n",
       "        text-align: right;\n",
       "    }\n",
       "</style>\n",
       "<table border=\"1\" class=\"dataframe\">\n",
       "  <thead>\n",
       "    <tr style=\"text-align: right;\">\n",
       "      <th></th>\n",
       "      <th>Date</th>\n",
       "      <th>Open</th>\n",
       "      <th>High</th>\n",
       "      <th>Low</th>\n",
       "      <th>Close</th>\n",
       "      <th>Adj Close</th>\n",
       "      <th>Volume</th>\n",
       "    </tr>\n",
       "  </thead>\n",
       "  <tbody>\n",
       "    <tr>\n",
       "      <th>6477</th>\n",
       "      <td>2021-09-07</td>\n",
       "      <td>297.350006</td>\n",
       "      <td>297.799988</td>\n",
       "      <td>290.899994</td>\n",
       "      <td>294.600006</td>\n",
       "      <td>294.600006</td>\n",
       "      <td>14325904.0</td>\n",
       "    </tr>\n",
       "    <tr>\n",
       "      <th>6478</th>\n",
       "      <td>2021-09-08</td>\n",
       "      <td>293.500000</td>\n",
       "      <td>298.799988</td>\n",
       "      <td>291.600006</td>\n",
       "      <td>295.250000</td>\n",
       "      <td>295.250000</td>\n",
       "      <td>14920479.0</td>\n",
       "    </tr>\n",
       "    <tr>\n",
       "      <th>6479</th>\n",
       "      <td>2021-09-09</td>\n",
       "      <td>294.000000</td>\n",
       "      <td>303.500000</td>\n",
       "      <td>293.549988</td>\n",
       "      <td>298.950012</td>\n",
       "      <td>298.950012</td>\n",
       "      <td>34020970.0</td>\n",
       "    </tr>\n",
       "    <tr>\n",
       "      <th>6480</th>\n",
       "      <td>2021-09-13</td>\n",
       "      <td>299.000000</td>\n",
       "      <td>302.000000</td>\n",
       "      <td>295.500000</td>\n",
       "      <td>301.200012</td>\n",
       "      <td>301.200012</td>\n",
       "      <td>16339860.0</td>\n",
       "    </tr>\n",
       "    <tr>\n",
       "      <th>6481</th>\n",
       "      <td>2021-09-14</td>\n",
       "      <td>302.250000</td>\n",
       "      <td>307.200012</td>\n",
       "      <td>302.200012</td>\n",
       "      <td>306.100006</td>\n",
       "      <td>306.100006</td>\n",
       "      <td>23234649.0</td>\n",
       "    </tr>\n",
       "  </tbody>\n",
       "</table>\n",
       "</div>"
      ],
      "text/plain": [
       "            Date        Open        High         Low       Close   Adj Close  \\\n",
       "6477  2021-09-07  297.350006  297.799988  290.899994  294.600006  294.600006   \n",
       "6478  2021-09-08  293.500000  298.799988  291.600006  295.250000  295.250000   \n",
       "6479  2021-09-09  294.000000  303.500000  293.549988  298.950012  298.950012   \n",
       "6480  2021-09-13  299.000000  302.000000  295.500000  301.200012  301.200012   \n",
       "6481  2021-09-14  302.250000  307.200012  302.200012  306.100006  306.100006   \n",
       "\n",
       "          Volume  \n",
       "6477  14325904.0  \n",
       "6478  14920479.0  \n",
       "6479  34020970.0  \n",
       "6480  16339860.0  \n",
       "6481  23234649.0  "
      ]
     },
     "execution_count": 2,
     "metadata": {},
     "output_type": "execute_result"
    }
   ],
   "source": [
    "data=pd.read_csv('TATAMOTORS.NS.csv',date_parser=True)\n",
    "data.tail()\n"
   ]
  },
  {
   "cell_type": "code",
   "execution_count": 3,
   "id": "1c59876e",
   "metadata": {},
   "outputs": [],
   "source": [
    "trdata=data[data['Date']<'2021-01-01'].copy()\n",
    "tsdata=data[data['Date']>='2021-01-01'].copy()"
   ]
  },
  {
   "cell_type": "code",
   "execution_count": 4,
   "id": "737300cd",
   "metadata": {},
   "outputs": [
    {
     "name": "stdout",
     "output_type": "stream",
     "text": [
      "Open      0\n",
      "High      0\n",
      "Low       0\n",
      "Close     0\n",
      "Volume    0\n",
      "dtype: int64\n"
     ]
    }
   ],
   "source": [
    "\n",
    "\n",
    "trdata=trdata.drop(['Date','Adj Close'],axis=1)\n",
    "trdata.dropna(axis=0,how='any',inplace=True)\n",
    "print(trdata.isnull().sum())\n",
    "\n"
   ]
  },
  {
   "cell_type": "code",
   "execution_count": null,
   "id": "0547220c",
   "metadata": {},
   "outputs": [],
   "source": []
  },
  {
   "cell_type": "code",
   "execution_count": null,
   "id": "07c8a0dd",
   "metadata": {},
   "outputs": [],
   "source": []
  },
  {
   "cell_type": "code",
   "execution_count": 5,
   "id": "c353f089",
   "metadata": {},
   "outputs": [
    {
     "data": {
      "text/plain": [
       "array([[0.10474505, 0.10296286, 0.10674933, 0.10488202, 0.        ],\n",
       "       [0.10474505, 0.10296286, 0.10674933, 0.10488202, 0.        ],\n",
       "       [0.10474505, 0.10296286, 0.10674933, 0.10488202, 0.        ],\n",
       "       ...,\n",
       "       [0.30009534, 0.29753862, 0.29381225, 0.2933923 , 0.33097816],\n",
       "       [0.2919473 , 0.29240626, 0.29260292, 0.29458507, 0.17902705],\n",
       "       [0.29491795, 0.29594002, 0.29674913, 0.2940739 , 0.22730211]])"
      ]
     },
     "execution_count": 5,
     "metadata": {},
     "output_type": "execute_result"
    }
   ],
   "source": [
    "s=MinMaxScaler()\n",
    "trdata=s.fit_transform(trdata)\n",
    "trdata"
   ]
  },
  {
   "cell_type": "code",
   "execution_count": 6,
   "id": "78169afc",
   "metadata": {},
   "outputs": [],
   "source": [
    "Xtrain=[]\n",
    "Ytrain=[]\n",
    "\n",
    "for i in range(90,trdata.shape[0]):\n",
    "    Xtrain.append(trdata[i-90:i])\n",
    "    Ytrain.append(trdata[i,0])"
   ]
  },
  {
   "cell_type": "code",
   "execution_count": 7,
   "id": "94945786",
   "metadata": {
    "scrolled": true
   },
   "outputs": [],
   "source": [
    "Xtrain = np.array(Xtrain)\n",
    "Ytrain = np.array(Ytrain)"
   ]
  },
  {
   "cell_type": "code",
   "execution_count": 8,
   "id": "32ff783d",
   "metadata": {},
   "outputs": [
    {
     "data": {
      "text/plain": [
       "((6205, 90, 5), (6205,))"
      ]
     },
     "execution_count": 8,
     "metadata": {},
     "output_type": "execute_result"
    }
   ],
   "source": [
    "Xtrain.shape,Ytrain.shape\n"
   ]
  },
  {
   "cell_type": "code",
   "execution_count": 9,
   "id": "3e1a1134",
   "metadata": {},
   "outputs": [],
   "source": [
    "from tensorflow.keras import Sequential\n",
    "from tensorflow.keras.layers import Dense, LSTM , Dropout\n",
    "from keras import optimizers\n",
    "optimizer = tf.keras.optimizers.Adam(clipvalue=0.5)\n",
    "from sklearn.metrics import mean_squared_error"
   ]
  },
  {
   "cell_type": "code",
   "execution_count": 10,
   "id": "7af20b90",
   "metadata": {},
   "outputs": [],
   "source": [
    "reg=Sequential()\n",
    "reg.add(LSTM(units=60,activation='relu',return_sequences= True, input_shape=(Xtrain.shape[1],5)))\n",
    "reg.add(Dropout(0.2))\n",
    "reg.add(LSTM(units=80,activation='relu',return_sequences= True))\n",
    "reg.add(Dropout(0.2))\n",
    "reg.add(LSTM(units=100,activation='relu',return_sequences= True))\n",
    "reg.add(Dropout(0.2))\n",
    "reg.add(LSTM(units=120,activation='relu'))\n",
    "reg.add(Dropout(0.2))\n",
    "reg.add(Dense(units=1))"
   ]
  },
  {
   "cell_type": "code",
   "execution_count": 11,
   "id": "436fb83a",
   "metadata": {},
   "outputs": [
    {
     "name": "stdout",
     "output_type": "stream",
     "text": [
      "Model: \"sequential\"\n",
      "_________________________________________________________________\n",
      "Layer (type)                 Output Shape              Param #   \n",
      "=================================================================\n",
      "lstm (LSTM)                  (None, 90, 60)            15840     \n",
      "_________________________________________________________________\n",
      "dropout (Dropout)            (None, 90, 60)            0         \n",
      "_________________________________________________________________\n",
      "lstm_1 (LSTM)                (None, 90, 80)            45120     \n",
      "_________________________________________________________________\n",
      "dropout_1 (Dropout)          (None, 90, 80)            0         \n",
      "_________________________________________________________________\n",
      "lstm_2 (LSTM)                (None, 90, 100)           72400     \n",
      "_________________________________________________________________\n",
      "dropout_2 (Dropout)          (None, 90, 100)           0         \n",
      "_________________________________________________________________\n",
      "lstm_3 (LSTM)                (None, 120)               106080    \n",
      "_________________________________________________________________\n",
      "dropout_3 (Dropout)          (None, 120)               0         \n",
      "_________________________________________________________________\n",
      "dense (Dense)                (None, 1)                 121       \n",
      "=================================================================\n",
      "Total params: 239,561\n",
      "Trainable params: 239,561\n",
      "Non-trainable params: 0\n",
      "_________________________________________________________________\n"
     ]
    }
   ],
   "source": [
    "reg.summary()"
   ]
  },
  {
   "cell_type": "code",
   "execution_count": 12,
   "id": "bb95fd8f",
   "metadata": {},
   "outputs": [],
   "source": [
    "reg.compile(optimizer=optimizer, loss='mean_squared_error',metrics=['mse'])"
   ]
  },
  {
   "cell_type": "code",
   "execution_count": null,
   "id": "285c96e3",
   "metadata": {},
   "outputs": [],
   "source": [
    "\n",
    "\n"
   ]
  },
  {
   "cell_type": "code",
   "execution_count": null,
   "id": "583620c2",
   "metadata": {},
   "outputs": [
    {
     "name": "stdout",
     "output_type": "stream",
     "text": [
      "Epoch 1/10\n",
      "173/173 [==============================] - 28s 148ms/step - loss: 0.0095 - mse: 0.0095\n",
      "Epoch 2/10\n",
      "173/173 [==============================] - 27s 159ms/step - loss: 0.0020 - mse: 0.0020\n",
      "Epoch 3/10\n",
      "173/173 [==============================] - 28s 161ms/step - loss: 0.0018 - mse: 0.0018\n",
      "Epoch 4/10\n",
      "173/173 [==============================] - 28s 163ms/step - loss: 0.0015 - mse: 0.0015\n",
      "Epoch 5/10\n",
      "173/173 [==============================] - 29s 166ms/step - loss: 0.0017 - mse: 0.0017\n",
      "Epoch 6/10\n",
      "173/173 [==============================] - 29s 167ms/step - loss: 0.0012 - mse: 0.0012\n",
      "Epoch 7/10\n",
      "173/173 [==============================] - 29s 169ms/step - loss: 0.0012 - mse: 0.0012\n",
      "Epoch 8/10\n",
      "173/173 [==============================] - 30s 171ms/step - loss: 0.0012 - mse: 0.0012\n",
      "Epoch 9/10\n",
      "173/173 [==============================] - 30s 172ms/step - loss: 0.0010 - mse: 0.0010\n",
      "Epoch 10/10\n",
      "158/173 [==========================>...] - ETA: 2s - loss: 0.0012 - mse: 0.0012"
     ]
    }
   ],
   "source": [
    "reg.fit(Xtrain,Ytrain,epochs=10,batch_size=36)"
   ]
  },
  {
   "cell_type": "code",
   "execution_count": null,
   "id": "82b71f25",
   "metadata": {},
   "outputs": [],
   "source": [
    "tsdata.head()"
   ]
  },
  {
   "cell_type": "code",
   "execution_count": null,
   "id": "18d13003",
   "metadata": {},
   "outputs": [],
   "source": [
    "t=tsdata.tail(90)"
   ]
  },
  {
   "cell_type": "code",
   "execution_count": null,
   "id": "85b22aa7",
   "metadata": {},
   "outputs": [],
   "source": [
    "ts=t.append(tsdata,ignore_index=True)\n",
    "ts=ts.drop(['Adj Close','Date'],axis=1)\n",
    "ts"
   ]
  },
  {
   "cell_type": "code",
   "execution_count": null,
   "id": "2f1c8bd3",
   "metadata": {},
   "outputs": [],
   "source": [
    "inp=s.transform(ts)"
   ]
  },
  {
   "cell_type": "code",
   "execution_count": null,
   "id": "59f43c5a",
   "metadata": {},
   "outputs": [],
   "source": [
    "Xtest=[]\n",
    "Ytest=[]\n",
    "for i in range(90,inp.shape[0]):\n",
    "    Xtest.append(inp[i-90:i])\n",
    "    Ytest.append(inp[i,0])"
   ]
  },
  {
   "cell_type": "code",
   "execution_count": null,
   "id": "209ed82f",
   "metadata": {},
   "outputs": [],
   "source": [
    "Xtest = np.array(Xtest)\n",
    "Ytest = np.array(Ytest)\n",
    "Xtest.shape"
   ]
  },
  {
   "cell_type": "code",
   "execution_count": null,
   "id": "1cc9391b",
   "metadata": {},
   "outputs": [],
   "source": [
    "ypred=reg.predict(Xtest)"
   ]
  },
  {
   "cell_type": "code",
   "execution_count": null,
   "id": "34774492",
   "metadata": {},
   "outputs": [],
   "source": [
    "ypred"
   ]
  },
  {
   "cell_type": "code",
   "execution_count": null,
   "id": "36a0c03a",
   "metadata": {},
   "outputs": [],
   "source": [
    "s.scale_"
   ]
  },
  {
   "cell_type": "code",
   "execution_count": null,
   "id": "780de2a4",
   "metadata": {},
   "outputs": [],
   "source": [
    "scale=1/1.69751181e-03\n",
    "scale"
   ]
  },
  {
   "cell_type": "code",
   "execution_count": null,
   "id": "e724432c",
   "metadata": {},
   "outputs": [],
   "source": [
    "ypred=ypred*scale\n",
    "Ytest=Ytest*scale"
   ]
  },
  {
   "cell_type": "code",
   "execution_count": null,
   "id": "696f2440",
   "metadata": {},
   "outputs": [],
   "source": [
    "\n",
    "#Visualization \n",
    "plt.figure(figsize=(14,5))\n",
    "plt.plot(Ytest,color ='red',label=\"Real stock Price\")\n",
    "plt.plot(ypred,color='blue',label=\"Predicted stock Price\")\n",
    "plt.xlabel('Time')\n",
    "plt.ylabel('P')"
   ]
  },
  {
   "cell_type": "code",
   "execution_count": null,
   "id": "f4b433c2",
   "metadata": {},
   "outputs": [],
   "source": []
  }
 ],
 "metadata": {
  "kernelspec": {
   "display_name": "Python 3",
   "language": "python",
   "name": "python3"
  },
  "language_info": {
   "codemirror_mode": {
    "name": "ipython",
    "version": 3
   },
   "file_extension": ".py",
   "mimetype": "text/x-python",
   "name": "python",
   "nbconvert_exporter": "python",
   "pygments_lexer": "ipython3",
   "version": "3.8.8"
  }
 },
 "nbformat": 4,
 "nbformat_minor": 5
}
